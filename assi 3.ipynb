{
 "cells": [
  {
   "cell_type": "code",
   "execution_count": 1,
   "metadata": {},
   "outputs": [
    {
     "name": "stdout",
     "output_type": "stream",
     "text": [
      "89 55 34 21 13 8 5 3 2 1 1 0 "
     ]
    }
   ],
   "source": [
    "#1)fibonacci in reverse order\n",
    "def reverseFibonacci(n): \n",
    "   \n",
    "    x = [0] * n  \n",
    "  \n",
    "    # assigning first and second elements \n",
    "    x[0] = 0 \n",
    "    x[1] = 1 \n",
    "  \n",
    "    for i in range(2, n):   \n",
    "  \n",
    "        # storing sum in the \n",
    "        # preceding location \n",
    "        x[i] = x[i - 2] + x[i - 1]  \n",
    "       \n",
    "  \n",
    "    for i in range(n - 1, -1 , -1):   \n",
    "  \n",
    "        # printing array in \n",
    "        # reverse order \n",
    "        print(x[i],end=\" \")  \n",
    "       \n",
    "   \n",
    "  \n",
    "# Driver function \n",
    "n = 12\n",
    "reverseFibonacci(n)"
   ]
  },
  {
   "cell_type": "code",
   "execution_count": 3,
   "metadata": {},
   "outputs": [
    {
     "name": "stdout",
     "output_type": "stream",
     "text": [
      "no of values5\n",
      "5\n",
      "2\n",
      "1\n",
      "4\n",
      "2\n"
     ]
    },
    {
     "data": {
      "text/plain": [
       "10"
      ]
     },
     "execution_count": 3,
     "metadata": {},
     "output_type": "execute_result"
    }
   ],
   "source": [
    "# 2)adittion of non repeated digits\n",
    "def Q2(n):\n",
    "    a=[]\n",
    "    s=0\n",
    "    for i in range(n):\n",
    "        a.append(int(input()))\n",
    "    for i in range(n):\n",
    "        c=0\n",
    "        for j in range(n):\n",
    "            if i!=j:\n",
    "                if a[i]==a[j]:\n",
    "                    c+=1\n",
    "        if c==0:\n",
    "            s=s+a[i]\n",
    "    return s\n",
    "Q2(int(input(\"no of values\")))"
   ]
  },
  {
   "cell_type": "code",
   "execution_count": 4,
   "metadata": {},
   "outputs": [
    {
     "name": "stdout",
     "output_type": "stream",
     "text": [
      "enter str:bad water\n",
      "b w\n",
      "a a\n",
      "d t\n",
      "e *\n",
      "r *\n"
     ]
    }
   ],
   "source": [
    "def Q3(a,b):\n",
    "    if len(a)<=len(b):\n",
    "        n=len(a)\n",
    "        k=len(b)\n",
    "    else:\n",
    "        n=len(b)\n",
    "        k=len(a)\n",
    "    for i in range(n):\n",
    "        print(a[i],b[i])\n",
    "    for j in range(n,k):\n",
    "        if(len(a)<=len(b)):\n",
    "            print(b[j],'*')\n",
    "        else:\n",
    "            print(a[j],'*')\n",
    "    return\n",
    "x=str(input(\"enter str:\"))\n",
    "x=x.split()\n",
    "Q3(x[0],x[1])"
   ]
  },
  {
   "cell_type": "code",
   "execution_count": 5,
   "metadata": {},
   "outputs": [
    {
     "name": "stdout",
     "output_type": "stream",
     "text": [
      "enter str:good night\n",
      "NIGHT\n"
     ]
    }
   ],
   "source": [
    "# 4)print largest word from string\n",
    "def Q4(a,b):\n",
    "    if len(a)>=len(b):\n",
    "        print(a.upper())\n",
    "    else:\n",
    "        print(b.upper())\n",
    "    return\n",
    "x=str(input(\"enter str:\"))\n",
    "x=x.split()\n",
    "Q4(x[0],x[1])"
   ]
  },
  {
   "cell_type": "code",
   "execution_count": 7,
   "metadata": {},
   "outputs": [
    {
     "name": "stdout",
     "output_type": "stream",
     "text": [
      "enter str:Application testing\n",
      "APPLICATION "
     ]
    }
   ],
   "source": [
    "# 5)print string start with upper case \n",
    "def Q5_1(a):\n",
    "    a=a.split()\n",
    "    for i in range (len(a)):\n",
    "        if a[i].istitle()==True:\n",
    "            print(a[i].upper(),end= \" \")\n",
    "    return\n",
    "x=str(input(\"enter str:\"))\n",
    "Q5_1(x)"
   ]
  },
  {
   "cell_type": "code",
   "execution_count": 10,
   "metadata": {},
   "outputs": [
    {
     "name": "stdout",
     "output_type": "stream",
     "text": [
      "2\n",
      "1024\n"
     ]
    }
   ],
   "source": [
    "# 6\n",
    "def findNthTerm(n): \n",
    "    if n % 2 == 0: \n",
    "        n //= 2\n",
    "        print(3 ** (n - 1)) \n",
    "    else: \n",
    "        n = (n // 2) + 1\n",
    "        print(2 ** (n - 1)) \n",
    "if __name__=='__main__': \n",
    "    N = 3\n",
    "    findNthTerm(N) \n",
    "    N = 21\n",
    "    findNthTerm(N) \n"
   ]
  },
  {
   "cell_type": "code",
   "execution_count": 8,
   "metadata": {},
   "outputs": [
    {
     "name": "stdout",
     "output_type": "stream",
     "text": [
      "enter num412345\n",
      "****\n",
      "*\n",
      "**\n",
      "***\n",
      "****\n",
      "*****\n"
     ]
    }
   ],
   "source": [
    "# 7)print pattern\n",
    "def Q7(n):\n",
    "    for i in range(len(n)):\n",
    "        n[i]=int(n[i])\n",
    "    for i in range(len(n)):\n",
    "        for j in range(n[i]):\n",
    "            print(\"*\",end=\"\")\n",
    "        print(\"\")\n",
    "    return\n",
    "x=input(\"enter num\")\n",
    "Q7(list(x))"
   ]
  },
  {
   "cell_type": "code",
   "execution_count": 12,
   "metadata": {},
   "outputs": [
    {
     "name": "stdout",
     "output_type": "stream",
     "text": [
      "enter a stringHebeon tech\n",
      "enter a chare\n",
      "Hbon tch\n"
     ]
    }
   ],
   "source": [
    "#8)\n",
    "def delete(n,target):\n",
    "    c=0\n",
    "    for i in range(len(n)):\n",
    "        if n[i]==target:\n",
    "            c+=1\n",
    "    print(n.replace(target,\"\",c))\n",
    "n=str(input(\"enter a string\"))\n",
    "target=str(input(\"enter a char\"))\n",
    "delete(n,target)"
   ]
  },
  {
   "cell_type": "code",
   "execution_count": 13,
   "metadata": {},
   "outputs": [
    {
     "name": "stdout",
     "output_type": "stream",
     "text": [
      "enter a string abc\n",
      "enter a string xyz\n"
     ]
    },
    {
     "data": {
      "text/plain": [
       "'abcxyz'"
      ]
     },
     "execution_count": 13,
     "metadata": {},
     "output_type": "execute_result"
    }
   ],
   "source": [
    "# 9. Your Program need to accept two strings and generate the output in merging of both strings.\n",
    "def comb(a,b):\n",
    "    c=a+b\n",
    "    return c \n",
    "a=str(input(\"enter a string \"))\n",
    "b=str(input(\"enter a string \"))\n",
    "comb(a,b)\n"
   ]
  },
  {
   "cell_type": "code",
   "execution_count": 14,
   "metadata": {},
   "outputs": [
    {
     "name": "stdout",
     "output_type": "stream",
     "text": [
      "enter a number12\n",
      "1 3 9 27 81 243 729 2187 6561 19683 59049 177147 "
     ]
    }
   ],
   "source": [
    "# 10. Series Generations:-  1, 3, 9, 27, 81, .\n",
    "def square(n):\n",
    "    for i in range(n):\n",
    "        print(3**i,end=\" \")\n",
    "    return\n",
    "n=int(input(\"enter a number\"))\n",
    "square(n)\n"
   ]
  },
  {
   "cell_type": "code",
   "execution_count": 15,
   "metadata": {},
   "outputs": [
    {
     "name": "stdout",
     "output_type": "stream",
     "text": [
      "enter a number5\n",
      "1 2 4 8 16 "
     ]
    }
   ],
   "source": [
    "# 11. Series Generations:-  1, 2, 4, 8, 16, 32, 64, 128, 256, ...\n",
    "def square(n):\n",
    "    for i in range(n):\n",
    "        print(2**i,end=\" \")\n",
    "    return\n",
    "n=int(input(\"enter a number\"))\n",
    "square(n)\n"
   ]
  },
  {
   "cell_type": "code",
   "execution_count": 16,
   "metadata": {},
   "outputs": [
    {
     "name": "stdout",
     "output_type": "stream",
     "text": [
      "enter a number7\n",
      "1 3 4 8 15 27 50 "
     ]
    }
   ],
   "source": [
    "# 12. Series Generations:-  1 3 4 8 15 27 50 92 169 311\n",
    "def series(n):\n",
    "    a=1\n",
    "    b=3\n",
    "    c=a+b\n",
    "    print(a,b,c,end=\" \")\n",
    "    for i in range (4,n+1):\n",
    "        d=a+b+c\n",
    "        a=b\n",
    "        b=c\n",
    "        c=d\n",
    "        print(d,end=\" \")\n",
    "    return\n",
    "n=int(input(\"enter a number\"))\n",
    "series(n)"
   ]
  },
  {
   "cell_type": "code",
   "execution_count": 17,
   "metadata": {},
   "outputs": [
    {
     "name": "stdout",
     "output_type": "stream",
     "text": [
      "enter n6\n"
     ]
    },
    {
     "data": {
      "text/plain": [
       "873"
      ]
     },
     "execution_count": 17,
     "metadata": {},
     "output_type": "execute_result"
    }
   ],
   "source": [
    "# 14. Series Generations:-  1! + 2! + 3! + 4! + 5! + ... + n!\n",
    "def fact(a):\n",
    "    f=1\n",
    "    for i in range (1,a+1):\n",
    "        f*=i\n",
    "    return f   \n",
    "def series(m):\n",
    "    s=0\n",
    "    for x in range (1,n+1):\n",
    "        s=s+fact(x)\n",
    "    return s\n",
    "n=int(input(\"enter n\"))\n",
    "series(n)"
   ]
  }
 ],
 "metadata": {
  "kernelspec": {
   "display_name": "Python 3",
   "language": "python",
   "name": "python3"
  },
  "language_info": {
   "codemirror_mode": {
    "name": "ipython",
    "version": 3
   },
   "file_extension": ".py",
   "mimetype": "text/x-python",
   "name": "python",
   "nbconvert_exporter": "python",
   "pygments_lexer": "ipython3",
   "version": "3.7.3"
  }
 },
 "nbformat": 4,
 "nbformat_minor": 2
}
