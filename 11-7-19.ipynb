{
 "cells": [
  {
   "cell_type": "markdown",
   "metadata": {},
   "source": [
    "### standard libraries:-\n",
    "- file I/O\n",
    "- regular expression\n",
    "- date time\n",
    "- math(numerical and mathematical)"
   ]
  },
  {
   "cell_type": "markdown",
   "metadata": {},
   "source": [
    "### File Handling in python\n",
    "- file:-doctument containing information resides on the permantent storage\n",
    "- different type of files:- txt,doc,pdf,csv,and etc...\n",
    "- Input -- keyboard\n",
    "- output -- file"
   ]
  },
  {
   "cell_type": "markdown",
   "metadata": {},
   "source": [
    "### MODES OF THE FILE I/O\n",
    "--'W' --this mode is used to file writing\n",
    "\n",
    "--if the file is not present first it cretes the file and write some data to it\n",
    "\n",
    "--if the file is already present then it will rewrite the previous content"
   ]
  },
  {
   "cell_type": "code",
   "execution_count": 1,
   "metadata": {},
   "outputs": [
    {
     "name": "stdout",
     "output_type": "stream",
     "text": [
      "file is created and data has written\n"
     ]
    }
   ],
   "source": [
    "# function to create a file and write to the file\n",
    "def createFile(filename):\n",
    "    f=open(filename,'w')\n",
    "    for i in range(10):\n",
    "        f.write('this is %d line\\n'%i)\n",
    "    print(\"file is created and data has written\")   \n",
    "    return\n",
    "createFile('file1.txt')"
   ]
  },
  {
   "cell_type": "code",
   "execution_count": 2,
   "metadata": {},
   "outputs": [
    {
     "name": "stdout",
     "output_type": "stream",
     "text": [
      " Volume in drive C has no label.\n",
      " Volume Serial Number is 4A39-8B5F\n",
      "\n",
      " Directory of C:\\Users\\mpilab\n",
      "\n",
      "11-07-2019  22:44    <DIR>          .\n",
      "11-07-2019  22:44    <DIR>          ..\n",
      "14-06-2019  01:32    <DIR>          .anaconda\n",
      "05-07-2019  23:45               575 .bash_history\n",
      "11-07-2019  22:44    <DIR>          .conda\n",
      "11-07-2019  22:39                43 .condarc\n",
      "29-06-2019  22:32    <DIR>          .idlerc\n",
      "11-07-2019  22:40    <DIR>          .ipynb_checkpoints\n",
      "14-06-2019  01:54    <DIR>          .ipython\n",
      "22-06-2019  03:01    <DIR>          .jupyter\n",
      "29-06-2019  21:40    <DIR>          .matplotlib\n",
      "07-07-2019  00:34             7,104 05-07-2019.ipynb\n",
      "11-07-2019  04:50            19,392 10-7-2019.ipynb\n",
      "11-07-2019  22:42               777 11-7-19.ipynb\n",
      "11-07-2019  22:25             8,561 11-7-2019.ipynb\n",
      "11-01-2019  22:45               225 154.asm\n",
      "03-04-2019  02:35               293 56.asm\n",
      "09-07-2019  04:18             6,806 6-7-19.ipynb\n",
      "09-07-2019  04:41             8,624 8-7-2019.ipynb\n",
      "10-07-2019  04:33            17,670 9-7-19.ipynb\n",
      "23-11-2018  23:04                72 akhil.asm\n",
      "05-07-2019  23:35    <DIR>          Anaconda3\n",
      "11-07-2019  03:33             9,309 assi 3.ipynb\n",
      "10-07-2019  21:13             2,515 assignement.ipynb\n",
      "26-07-2018  01:13    <DIR>          Contacts\n",
      "11-07-2019  22:24    <DIR>          Desktop\n",
      "10-07-2019  22:02    <DIR>          Documents\n",
      "11-07-2019  04:50    <DIR>          Downloads\n",
      "26-07-2018  01:13    <DIR>          Favorites\n",
      "11-07-2019  22:44               160 file1.txt\n",
      "26-07-2018  01:13    <DIR>          Links\n",
      "26-07-2018  01:13    <DIR>          Music\n",
      "23-11-2018  22:58                72 nikhil.asm\n",
      "02-08-2018  03:09    <DIR>          Pictures\n",
      "26-07-2018  01:13    <DIR>          Saved Games\n",
      "26-07-2018  01:13    <DIR>          Searches\n",
      "26-03-2019  02:26               303 stepper.masm\n",
      "26-03-2019  02:27               303 stepper1.masm\n",
      "29-03-2019  23:31               187 traffic.asm\n",
      "14-06-2019  01:54               732 Untitled.ipynb\n",
      "29-06-2019  22:21             4,799 Untitled1.ipynb\n",
      "30-06-2019  03:29                72 Untitled2.ipynb\n",
      "06-07-2019  21:07                72 Untitled3.ipynb\n",
      "26-07-2018  01:13    <DIR>          Videos\n",
      "30-11-2018  22:57               103 vivek.asm\n",
      "              24 File(s)         88,769 bytes\n",
      "              21 Dir(s)  126,735,388,672 bytes free\n"
     ]
    }
   ],
   "source": [
    "ls"
   ]
  },
  {
   "cell_type": "code",
   "execution_count": 3,
   "metadata": {},
   "outputs": [
    {
     "name": "stdout",
     "output_type": "stream",
     "text": [
      "file is created and data has written\n"
     ]
    }
   ],
   "source": [
    "def createFile(filename):\n",
    "    f=open(filename,'w')\n",
    "    f.write('testing...\\n')\n",
    "    print(\"file is created and data has written\")   \n",
    "    return\n",
    "createFile('file1.txt')"
   ]
  },
  {
   "cell_type": "code",
   "execution_count": 7,
   "metadata": {},
   "outputs": [
    {
     "name": "stdout",
     "output_type": "stream",
     "text": [
      "file created and succesfully data written\n"
     ]
    }
   ],
   "source": [
    "def appendData(filename):\n",
    "    f=open(filename,'a')\n",
    "    for i in range(10):\n",
    "        f.write(\"this is %d line\\n\"%i)\n",
    "    print(\"file created and succesfully data written\")\n",
    "    return\n",
    "appendData('file2.txt')"
   ]
  },
  {
   "cell_type": "code",
   "execution_count": 4,
   "metadata": {},
   "outputs": [
    {
     "name": "stdout",
     "output_type": "stream",
     "text": [
      "file created and succesfully data written\n"
     ]
    }
   ],
   "source": [
    "def appendData(filename):\n",
    "    f=open(filename,'a')\n",
    "    f.write(\"new line 1\\n\")\n",
    "    f.write(\"new line 2\\n\")\n",
    "    print(\"file created and succesfully data written\")\n",
    "    return\n",
    "appendData('file2.txt')"
   ]
  },
  {
   "cell_type": "code",
   "execution_count": 8,
   "metadata": {},
   "outputs": [
    {
     "name": "stdout",
     "output_type": "stream",
     "text": [
      "new line 1\n",
      "new line 2\n",
      "this is 0 line\n",
      "this is 1 line\n",
      "this is 2 line\n",
      "this is 3 line\n",
      "this is 4 line\n",
      "this is 5 line\n",
      "this is 6 line\n",
      "this is 7 line\n",
      "this is 8 line\n",
      "this is 9 line\n",
      "\n"
     ]
    }
   ],
   "source": [
    "#functin to read of the file\n",
    "def readFileData(filename):\n",
    "    f=open(filename,'r')\n",
    "    if f.mode=='r':\n",
    "        x=f.read()\n",
    "        print(x)\n",
    "    f.close   \n",
    "    return\n",
    "readFileData('file2.txt')"
   ]
  },
  {
   "cell_type": "code",
   "execution_count": 10,
   "metadata": {},
   "outputs": [
    {
     "name": "stdout",
     "output_type": "stream",
     "text": [
      "Enter the file namenamedata.txt\n",
      "Enter the mode of the filea\n",
      "The data successfully written\n"
     ]
    }
   ],
   "source": [
    "def fileOperations(filename,mode):\n",
    "    with open(filename,mode) as f:\n",
    "        if f.mode =='r' :\n",
    "            data = f.read()\n",
    "            print(data)\n",
    "        elif f.mode == 'a':\n",
    "            f.write('Data to the file')\n",
    "            print('The data successfully written')\n",
    "    f.close()\n",
    "    return\n",
    "filename = input('Enter the file name')\n",
    "mode = input('Enter the mode of the file')\n",
    "fileOperations(filename,mode)"
   ]
  },
  {
   "cell_type": "code",
   "execution_count": 12,
   "metadata": {},
   "outputs": [
    {
     "name": "stdout",
     "output_type": "stream",
     "text": [
      "Enter the file name :file2.txt\n",
      "Enter the word :this\n"
     ]
    },
    {
     "data": {
      "text/plain": [
       "10"
      ]
     },
     "execution_count": 12,
     "metadata": {},
     "output_type": "execute_result"
    }
   ],
   "source": [
    "# Data Analysis\n",
    "# Word Count Program\n",
    "def wordCount(filename,word):\n",
    "    with open(filename, 'r') as f:\n",
    "        if f.mode == 'r':\n",
    "            x= f.read()\n",
    "            li= x.split() #It splits the string with whitespace\n",
    "    cnt= li.count(word)\n",
    "    return cnt\n",
    "filename = input('Enter the file name :')\n",
    "word = input('Enter the word :') #which word count you need\n",
    "wordCount(filename,word)\n"
   ]
  },
  {
   "cell_type": "code",
   "execution_count": 13,
   "metadata": {},
   "outputs": [
    {
     "name": "stdout",
     "output_type": "stream",
     "text": [
      "Enter the filename : file2.txt\n"
     ]
    },
    {
     "data": {
      "text/plain": [
       "172"
      ]
     },
     "execution_count": 13,
     "metadata": {},
     "output_type": "execute_result"
    }
   ],
   "source": [
    "# Character count from the given file\n",
    "def charCount(filename):\n",
    "    with open(filename,'r') as f:\n",
    "        if f.mode == 'r':\n",
    "            x=f.read()\n",
    "            li = list(x)\n",
    "    return len(li)\n",
    "filename = input('Enter the filename : ')\n",
    "charCount(filename)"
   ]
  },
  {
   "cell_type": "code",
   "execution_count": 14,
   "metadata": {},
   "outputs": [
    {
     "name": "stdout",
     "output_type": "stream",
     "text": [
      "Enter the filename : file2.txt\n"
     ]
    },
    {
     "data": {
      "text/plain": [
       "13"
      ]
     },
     "execution_count": 14,
     "metadata": {},
     "output_type": "execute_result"
    }
   ],
   "source": [
    "# Function to find the no. of lines in the i/p file\n",
    "# i/p -- filename(file2.txt)\n",
    "# o/p -- No of lines (12)\n",
    "def countOfLines(filename):\n",
    "    with open(filename,'r') as f:\n",
    "        if f.mode == 'r':\n",
    "            x = f.read()\n",
    "            li = x.split(\"\\n\")\n",
    "    return len(li)\n",
    "filename = input('Enter the filename : ')\n",
    "countOfLines(filename)"
   ]
  },
  {
   "cell_type": "code",
   "execution_count": 15,
   "metadata": {},
   "outputs": [
    {
     "name": "stdout",
     "output_type": "stream",
     "text": [
      "Enter the filename : file2.txt\n"
     ]
    },
    {
     "data": {
      "text/plain": [
       "'Upper Case = 0 , Lower Case = 114'"
      ]
     },
     "execution_count": 15,
     "metadata": {},
     "output_type": "execute_result"
    }
   ],
   "source": [
    "# Function to print the Upper and Lower characters\n",
    "def caseCount(filename):\n",
    "    cntUpper = 0\n",
    "    cntLower = 0\n",
    "    with open(filename,'r') as f:\n",
    "        if f.mode =='r':\n",
    "            x = f.read()\n",
    "            li = list(x)\n",
    "    for i in li:\n",
    "        if i.isupper():\n",
    "            cntUpper += 1 #cntUpper = cntUpper+1\n",
    "        elif i.islower():\n",
    "            cntLower += 1 #cntLower = cntLower+1\n",
    "    output = 'Upper Case = {0} , Lower Case = {1}'.format(cntUpper,cntLower)\n",
    "    return output\n",
    "filename = input('Enter the filename : ')\n",
    "caseCount(filename)"
   ]
  },
  {
   "cell_type": "markdown",
   "metadata": {},
   "source": [
    "### math, random, os\n",
    "-  os package it contains certain methods which works with os"
   ]
  },
  {
   "cell_type": "code",
   "execution_count": 1,
   "metadata": {},
   "outputs": [
    {
     "name": "stdout",
     "output_type": "stream",
     "text": [
      " Volume in drive C has no label.\n",
      " Volume Serial Number is 4A39-8B5F\n",
      "\n",
      " Directory of C:\\Users\\mpilab\n",
      "\n",
      "12-07-2019  00:25    <DIR>          .\n",
      "12-07-2019  00:25    <DIR>          ..\n",
      "14-06-2019  01:32    <DIR>          .anaconda\n",
      "05-07-2019  23:45               575 .bash_history\n",
      "12-07-2019  02:13    <DIR>          .conda\n",
      "11-07-2019  22:39                43 .condarc\n",
      "29-06-2019  22:32    <DIR>          .idlerc\n",
      "11-07-2019  22:47    <DIR>          .ipynb_checkpoints\n",
      "14-06-2019  01:54    <DIR>          .ipython\n",
      "22-06-2019  03:01    <DIR>          .jupyter\n",
      "29-06-2019  21:40    <DIR>          .matplotlib\n",
      "07-07-2019  00:34             7,104 05-07-2019.ipynb\n",
      "11-07-2019  04:50            19,392 10-7-2019.ipynb\n",
      "12-07-2019  00:25            11,945 11-7-19.ipynb\n",
      "11-01-2019  22:45               225 154.asm\n",
      "03-04-2019  02:35               293 56.asm\n",
      "09-07-2019  04:18             6,806 6-7-19.ipynb\n",
      "09-07-2019  04:41             8,624 8-7-2019.ipynb\n",
      "10-07-2019  04:33            17,670 9-7-19.ipynb\n",
      "23-11-2018  23:04                72 akhil.asm\n",
      "05-07-2019  23:35    <DIR>          Anaconda3\n",
      "11-07-2019  03:33             9,309 assi 3.ipynb\n",
      "10-07-2019  21:13             2,515 assignement.ipynb\n",
      "26-07-2018  01:13    <DIR>          Contacts\n",
      "11-07-2019  23:54    <DIR>          Desktop\n",
      "11-07-2019  23:55    <DIR>          Documents\n",
      "12-07-2019  00:37    <DIR>          Downloads\n",
      "26-07-2018  01:13    <DIR>          Favorites\n",
      "11-07-2019  22:44                12 file1.txt\n",
      "11-07-2019  22:46               184 file2.txt\n",
      "26-07-2018  01:13    <DIR>          Links\n",
      "26-07-2018  01:13    <DIR>          Music\n",
      "11-07-2019  22:49                16 namedata.txt\n",
      "23-11-2018  22:58                72 nikhil.asm\n",
      "02-08-2018  03:09    <DIR>          Pictures\n",
      "26-07-2018  01:13    <DIR>          Saved Games\n",
      "26-07-2018  01:13    <DIR>          Searches\n",
      "26-03-2019  02:26               303 stepper.masm\n",
      "26-03-2019  02:27               303 stepper1.masm\n",
      "29-03-2019  23:31               187 traffic.asm\n",
      "14-06-2019  01:54               732 Untitled.ipynb\n",
      "29-06-2019  22:21             4,799 Untitled1.ipynb\n",
      "30-06-2019  03:29                72 Untitled2.ipynb\n",
      "06-07-2019  21:07                72 Untitled3.ipynb\n",
      "26-07-2018  01:13    <DIR>          Videos\n",
      "30-11-2018  22:57               103 vivek.asm\n",
      "              25 File(s)         91,428 bytes\n",
      "              21 Dir(s)  126,673,559,552 bytes free\n"
     ]
    }
   ],
   "source": [
    "ls"
   ]
  },
  {
   "cell_type": "code",
   "execution_count": 3,
   "metadata": {},
   "outputs": [
    {
     "name": "stdout",
     "output_type": "stream",
     "text": [
      "C:\\Users\\mpilab\\Desktop\\problemsolvingandprogramming\\git\n"
     ]
    }
   ],
   "source": [
    "cd Desktop/problemsolvingandprogramming/git"
   ]
  },
  {
   "cell_type": "code",
   "execution_count": 4,
   "metadata": {},
   "outputs": [
    {
     "name": "stdout",
     "output_type": "stream",
     "text": [
      " Volume in drive C has no label.\n",
      " Volume Serial Number is 4A39-8B5F\n",
      "\n",
      " Directory of C:\\Users\\mpilab\\Desktop\\problemsolvingandprogramming\\git\n",
      "\n",
      "04-07-2019  22:22    <DIR>          .\n",
      "04-07-2019  22:22    <DIR>          ..\n",
      "04-07-2019  22:35                48 file1.txt\n",
      "               1 File(s)             48 bytes\n",
      "               2 Dir(s)  126,673,682,432 bytes free\n"
     ]
    }
   ],
   "source": [
    "ls"
   ]
  },
  {
   "cell_type": "code",
   "execution_count": 5,
   "metadata": {},
   "outputs": [
    {
     "name": "stdout",
     "output_type": "stream",
     "text": [
      "C:\\Users\\mpilab\\Desktop\\problemsolvingandprogramming\n"
     ]
    }
   ],
   "source": [
    "cd .."
   ]
  },
  {
   "cell_type": "code",
   "execution_count": 6,
   "metadata": {},
   "outputs": [
    {
     "data": {
      "text/plain": [
       "['file1.txt']"
      ]
     },
     "execution_count": 6,
     "metadata": {},
     "output_type": "execute_result"
    }
   ],
   "source": [
    "import os\n",
    "os.listdir('git/') # Listdir() --ls"
   ]
  },
  {
   "cell_type": "code",
   "execution_count": 8,
   "metadata": {},
   "outputs": [
    {
     "name": "stdout",
     "output_type": "stream",
     "text": [
      "file1.txt\n"
     ]
    }
   ],
   "source": [
    "li = os.listdir('git/')\n",
    "for i in li:\n",
    "    print(i)"
   ]
  },
  {
   "cell_type": "markdown",
   "metadata": {},
   "source": [
    "- Older version Python -- os.listdir()\n",
    "- New version Python -- os.scandir() and pathlib.Path()"
   ]
  },
  {
   "cell_type": "code",
   "execution_count": 9,
   "metadata": {},
   "outputs": [
    {
     "name": "stdout",
     "output_type": "stream",
     "text": [
      "<DirEntry 'file1.txt'>\n"
     ]
    }
   ],
   "source": [
    "li = os.scandir('git/')\n",
    "for i in li:\n",
    "    print(i)"
   ]
  },
  {
   "cell_type": "code",
   "execution_count": 10,
   "metadata": {},
   "outputs": [
    {
     "name": "stdout",
     "output_type": "stream",
     "text": [
      "file1.txt\n"
     ]
    }
   ],
   "source": [
    "from pathlib import Path\n",
    "li = Path('git/')\n",
    "for i in li.iterdir():\n",
    "    print(i.name)"
   ]
  },
  {
   "cell_type": "code",
   "execution_count": 11,
   "metadata": {},
   "outputs": [
    {
     "ename": "SyntaxError",
     "evalue": "invalid syntax (<ipython-input-11-cad27595ce13>, line 4)",
     "output_type": "error",
     "traceback": [
      "\u001b[1;36m  File \u001b[1;32m\"<ipython-input-11-cad27595ce13>\"\u001b[1;36m, line \u001b[1;32m4\u001b[0m\n\u001b[1;33m    if os.path.isfile\u001b[0m\n\u001b[1;37m                     ^\u001b[0m\n\u001b[1;31mSyntaxError\u001b[0m\u001b[1;31m:\u001b[0m invalid syntax\n"
     ]
    }
   ],
   "source": [
    "import os\n",
    "dirPath = \"git/\"\n",
    "for i in os.listdir(dirPath):\n",
    "    if os.path.isfile"
   ]
  },
  {
   "cell_type": "code",
   "execution_count": null,
   "metadata": {},
   "outputs": [],
   "source": []
  }
 ],
 "metadata": {
  "kernelspec": {
   "display_name": "Python 3",
   "language": "python",
   "name": "python3"
  },
  "language_info": {
   "codemirror_mode": {
    "name": "ipython",
    "version": 3
   },
   "file_extension": ".py",
   "mimetype": "text/x-python",
   "name": "python",
   "nbconvert_exporter": "python",
   "pygments_lexer": "ipython3",
   "version": "3.7.3"
  }
 },
 "nbformat": 4,
 "nbformat_minor": 2
}
